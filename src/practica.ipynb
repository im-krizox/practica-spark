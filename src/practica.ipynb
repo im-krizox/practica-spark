{
 "cells": [
  {
   "cell_type": "code",
   "execution_count": 1,
   "id": "1ef91618",
   "metadata": {},
   "outputs": [
    {
     "name": "stdout",
     "output_type": "stream",
     "text": [
      "Collecting findspark\n",
      "  Downloading findspark-2.0.1-py2.py3-none-any.whl.metadata (352 bytes)\n",
      "Downloading findspark-2.0.1-py2.py3-none-any.whl (4.4 kB)\n",
      "Installing collected packages: findspark\n",
      "Successfully installed findspark-2.0.1\n"
     ]
    }
   ],
   "source": [
    "!pip install findspark"
   ]
  },
  {
   "cell_type": "code",
   "execution_count": 2,
   "id": "65db7b80",
   "metadata": {},
   "outputs": [],
   "source": [
    "import findspark\n",
    "findspark.init()\n",
    "\n",
    "from pyspark.sql import SparkSession\n",
    "\n",
    "# Crear la sesión de Spark\n",
    "spark = SparkSession.builder.appName(\"PracticaSpark\").getOrCreate()"
   ]
  },
  {
   "cell_type": "code",
   "execution_count": 3,
   "id": "83e6c62b",
   "metadata": {},
   "outputs": [
    {
     "name": "stdout",
     "output_type": "stream",
     "text": [
      "+----------+----+-----+-------+--------------------+---------+\n",
      "|     fecha|anio|  mes|  linea|            estacion|afluencia|\n",
      "+----------+----+-----+-------+--------------------+---------+\n",
      "|2010-01-01|2010|Enero|Linea 1|            Zaragoza|    20227|\n",
      "|2010-01-01|2010|Enero|Linea 1| Isabel la CatA³lica|     6487|\n",
      "|2010-01-01|2010|Enero|Linea 1|           Moctezuma|    10304|\n",
      "|2010-01-01|2010|Enero|Linea 1|        Pino SuA¡rez|     8679|\n",
      "|2010-01-01|2010|Enero|Linea 1|      GA³mez FarA­as|    19499|\n",
      "|2010-01-01|2010|Enero|Linea 6|Deportivo 18 de M...|      621|\n",
      "|2010-01-01|2010|Enero|Linea 6|  La Villa/BasA­lica|    24792|\n",
      "|2010-01-01|2010|Enero|Linea 9|          PantitlA¡n|    27000|\n",
      "|2010-01-01|2010|Enero|Linea 8|              Aculco|     3652|\n",
      "|2010-01-01|2010|Enero|Linea 9|          VelA³dromo|     3239|\n",
      "|2010-01-01|2010|Enero|Linea 5| Autobuses del Norte|    16824|\n",
      "|2010-01-01|2010|Enero|Linea 5|           Misterios|     3513|\n",
      "|2010-01-01|2010|Enero|Linea 7|      Constituyentes|     1417|\n",
      "|2010-01-01|2010|Enero|Linea 7|          RefinerA­a|     2325|\n",
      "|2010-01-01|2010|Enero|Linea 3|EtiopA­a/Plaza de...|     7078|\n",
      "|2010-01-01|2010|Enero|Linea 7|             Polanco|     6173|\n",
      "|2010-01-01|2010|Enero|Linea 4|     Canal del Norte|     2317|\n",
      "|2010-01-01|2010|Enero|Linea 4|           Bondojito|     2474|\n",
      "|2010-01-01|2010|Enero|Linea 4|         Santa Anita|     1042|\n",
      "|2010-01-01|2010|Enero|Linea 2|             Popotla|     2419|\n",
      "+----------+----+-----+-------+--------------------+---------+\n",
      "only showing top 20 rows\n",
      "\n",
      "root\n",
      " |-- fecha: date (nullable = true)\n",
      " |-- anio: integer (nullable = true)\n",
      " |-- mes: string (nullable = true)\n",
      " |-- linea: string (nullable = true)\n",
      " |-- estacion: string (nullable = true)\n",
      " |-- afluencia: integer (nullable = true)\n",
      "\n",
      "Número de filas: 1085955\n"
     ]
    }
   ],
   "source": [
    "# Cargar el archivo CSV en un DataFrame\n",
    "df = spark.read.csv(\"./work/data/archivo_limpio.csv\", header=True, inferSchema=True)\n",
    "\n",
    "# Mostrar los primeros registros\n",
    "df.show()\n",
    "\n",
    "# Mostrar el esquema del DataFrame\n",
    "df.printSchema()\n",
    "\n",
    "# Contar el número de filas\n",
    "print(f\"Número de filas: {df.count()}\")\n"
   ]
  }
 ],
 "metadata": {
  "kernelspec": {
   "display_name": "Python 3 (ipykernel)",
   "language": "python",
   "name": "python3"
  },
  "language_info": {
   "codemirror_mode": {
    "name": "ipython",
    "version": 3
   },
   "file_extension": ".py",
   "mimetype": "text/x-python",
   "name": "python",
   "nbconvert_exporter": "python",
   "pygments_lexer": "ipython3",
   "version": "3.11.6"
  }
 },
 "nbformat": 4,
 "nbformat_minor": 5
}
