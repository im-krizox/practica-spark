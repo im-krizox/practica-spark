{
 "cells": [
  {
   "cell_type": "code",
   "execution_count": null,
   "metadata": {},
   "outputs": [],
   "source": [
    "!pip install findspark"
   ]
  },
  {
   "cell_type": "code",
   "execution_count": 2,
   "metadata": {},
   "outputs": [],
   "source": [
    "import findspark\n",
    "findspark.init()\n",
    "\n",
    "from pyspark.sql import SparkSession\n",
    "from pyspark.sql.functions import col, regexp_replace\n",
    "from pyspark.sql.types import StringType\n",
    "\n",
    "# Crear sesión de Spark\n",
    "spark = SparkSession.builder.appName(\"LimpiezaMetro\").getOrCreate()"
   ]
  },
  {
   "cell_type": "code",
   "execution_count": 3,
   "metadata": {},
   "outputs": [],
   "source": [
    "# Leer el archivo CSV\n",
    "df = spark.read.csv(\"./work/data/afluencia-metro.csv\", header=True, inferSchema=True)"
   ]
  },
  {
   "cell_type": "code",
   "execution_count": 4,
   "metadata": {},
   "outputs": [],
   "source": [
    "# Función para corregir la codificación de caracteres\n",
    "def corregir_codificacion(df, column_name):\n",
    "    return df.withColumn(column_name,\n",
    "        regexp_replace(\n",
    "            regexp_replace(\n",
    "                regexp_replace(\n",
    "                    regexp_replace(\n",
    "                        regexp_replace(\n",
    "                            regexp_replace(\n",
    "                                regexp_replace(\n",
    "                                    regexp_replace(\n",
    "                                        regexp_replace(\n",
    "                                            regexp_replace(\n",
    "                                                col(column_name),\n",
    "                                                    \"Ã³\", \"ó\"),\n",
    "                                                \"Ã¡\", \"á\"),\n",
    "                                            \"Ã­\", \"í\"),\n",
    "                                        \"Ã©\", \"é\"),\n",
    "                                    \"Ãº\", \"ú\"),\n",
    "                                \"Ã±\", \"ñ\"),\n",
    "                            \"Ã±\", \"ñ\"),\n",
    "                        \"Ã\", \"í\"),\n",
    "                    \"Ã\", \"á\"),\n",
    "                \"Ã\", \"ó\")\n",
    "    )"
   ]
  },
  {
   "cell_type": "code",
   "execution_count": 5,
   "metadata": {},
   "outputs": [],
   "source": [
    "# Aplicar la corrección a la columna de estaciones\n",
    "df_corregido = corregir_codificacion(df, \"estacion\")"
   ]
  },
  {
   "cell_type": "code",
   "execution_count": 6,
   "metadata": {},
   "outputs": [],
   "source": [
    "# Eliminar \"Linea \" de la columna \"linea\" y convertir a texto\n",
    "df_corregido = df_corregido.withColumn(\"linea\", regexp_replace(col(\"linea\"), \"Linea \", \"\").cast(StringType()))\n"
   ]
  },
  {
   "cell_type": "code",
   "execution_count": 7,
   "metadata": {},
   "outputs": [],
   "source": [
    "# Guardar el resultado\n",
    "df_corregido.coalesce(1).write.csv(\"./work/data/afluencia-metro-corregido.csv\", header=True)"
   ]
  }
 ],
 "metadata": {
  "kernelspec": {
   "display_name": "Python 3 (ipykernel)",
   "language": "python",
   "name": "python3"
  }
 },
 "nbformat": 4,
 "nbformat_minor": 2
}
